{
  "nbformat": 4,
  "nbformat_minor": 0,
  "metadata": {
    "colab": {
      "provenance": [],
      "authorship_tag": "ABX9TyMmiYO0319JdseGdLfoLJSZ",
      "include_colab_link": true
    },
    "kernelspec": {
      "name": "python3",
      "display_name": "Python 3"
    },
    "language_info": {
      "name": "python"
    }
  },
  "cells": [
    {
      "cell_type": "markdown",
      "metadata": {
        "id": "view-in-github",
        "colab_type": "text"
      },
      "source": [
        "<a href=\"https://colab.research.google.com/github/septiaisnaeni/2025_VISIKOM_TI-2B/blob/main/PRAKTIKUM04_SEPTIA%20ISNAENI.ipynb\" target=\"_parent\"><img src=\"https://colab.research.google.com/assets/colab-badge.svg\" alt=\"Open In Colab\"/></a>"
      ]
    },
    {
      "cell_type": "markdown",
      "source": [
        "# PRAKTIKUM"
      ],
      "metadata": {
        "id": "4L-gxTJE1uHH"
      }
    },
    {
      "cell_type": "markdown",
      "source": [
        "## Praktikum D1 - Regresi dari Sitra Sintetis (Prediksi Radius Lingkaran)"
      ],
      "metadata": {
        "id": "CtZN8j4f1wwZ"
      }
    },
    {
      "cell_type": "code",
      "execution_count": 1,
      "metadata": {
        "id": "6NGqMZda0bVV"
      },
      "outputs": [],
      "source": [
        "import numpy as np\n",
        "import matplotlib.pyplot as plt\n",
        "import cv2\n",
        "from sklearn.model_selection import train_test_split\n",
        "from sklearn.metrics import mean_absolute_error, r2_score\n",
        "\n",
        "import tensorflow as tf\n",
        "from tensorflow.keras import layers, models\n",
        "\n",
        "# Generator 1 sample\n",
        "def make_sample(img_size=64, min_r=5, max_r=20):\n",
        "  r = np.random.randint(min_r, max_r + 1) # radius acak\n",
        "  img = np.zeros((img_size, img_size), dtype=np.uint8)\n",
        "  cx = np.random.randint(r, img_size - r) # center-x\n",
        "  cy = np.random.randint(r, img_size - r) # center-y\n",
        "  cv2.circle(img, (cx, cy), r, (255,), -1) # lingkaran putih terisi\n",
        "  img = (img / 255.0).astype(np.float32)\n",
        "  # 3-channel biar kompatibel CNN\n",
        "  img3 = np.stack([img, img, img], axis=-1)\n",
        "  return img3, float(r), (cx, cy)"
      ]
    },
    {
      "cell_type": "code",
      "source": [],
      "metadata": {
        "id": "uS1IbTnZ14ZO"
      },
      "execution_count": null,
      "outputs": []
    }
  ]
}